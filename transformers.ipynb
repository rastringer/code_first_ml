{
  "nbformat": 4,
  "nbformat_minor": 0,
  "metadata": {
    "colab": {
      "provenance": [],
      "toc_visible": true,
      "authorship_tag": "ABX9TyNEKhQHcZ7e5Y/yUfpfpTWs",
      "include_colab_link": true
    },
    "kernelspec": {
      "name": "python3",
      "display_name": "Python 3"
    },
    "language_info": {
      "name": "python"
    }
  },
  "cells": [
    {
      "cell_type": "markdown",
      "metadata": {
        "id": "view-in-github",
        "colab_type": "text"
      },
      "source": [
        "<a href=\"https://colab.research.google.com/github/rastringer/code_first_ml/blob/main/transformers.ipynb\" target=\"_parent\"><img src=\"https://colab.research.google.com/assets/colab-badge.svg\" alt=\"Open In Colab\"/></a>"
      ]
    },
    {
      "cell_type": "code",
      "execution_count": null,
      "metadata": {
        "id": "j6QvASwZszbT"
      },
      "outputs": [],
      "source": []
    },
    {
      "cell_type": "markdown",
      "source": [
        "# Transformers"
      ],
      "metadata": {
        "id": "pnlZuh9ntYro"
      }
    },
    {
      "cell_type": "code",
      "source": [],
      "metadata": {
        "id": "pqZUWZevtbdW"
      },
      "execution_count": null,
      "outputs": []
    },
    {
      "cell_type": "code",
      "source": [],
      "metadata": {
        "id": "kPsIUJ8pwcYS"
      },
      "execution_count": null,
      "outputs": []
    },
    {
      "cell_type": "markdown",
      "source": [
        "<img src=\"https://github.com/rastringer/code_first_ml/blob/main/images/transformer_architecture.png?raw=true\" width=\"500\"/>"
      ],
      "metadata": {
        "id": "KL_Dc3p9wchG"
      }
    },
    {
      "cell_type": "code",
      "source": [
        "!pip install spacy\n",
        "!python -m spacy download en_core_web_sm\n"
      ],
      "metadata": {
        "id": "8Tdpv6mTQaWI"
      },
      "execution_count": null,
      "outputs": []
    },
    {
      "cell_type": "markdown",
      "source": [
        "## Word vectors\n",
        "\n"
      ],
      "metadata": {
        "id": "vAsyciDvQHnK"
      }
    },
    {
      "cell_type": "code",
      "source": [
        "import spacy\n",
        "\n",
        "# Load the pre-trained English model\n",
        "nlp = spacy.load(\"en_core_web_sm\")\n",
        "\n",
        "# Example sentence\n",
        "sentence = \"Word vectors are awesome!\"\n",
        "\n",
        "# Process the sentence using spaCy\n",
        "doc = nlp(sentence)\n",
        "\n",
        "# Access the word vectors for each token in the sentence\n",
        "for token in doc:\n",
        "    print(f\"{token.text}: {token.vector[:5]}...\")  # Displaying the first 5 components of the vector\n"
      ],
      "metadata": {
        "id": "1iaQWrJ6wh4q",
        "colab": {
          "base_uri": "https://localhost:8080/"
        },
        "outputId": "083da97a-35a2-4dbf-dd52-890a74b281eb"
      },
      "execution_count": 5,
      "outputs": [
        {
          "output_type": "stream",
          "name": "stdout",
          "text": [
            "Word: [-0.6131599 -1.3359097  0.5144141  0.582945  -0.5807983]...\n",
            "vectors: [-0.16492632  1.2883415  -0.17733231  0.5517031   0.6896729 ]...\n",
            "are: [ 0.08803613  0.7008368  -0.5576158  -0.5089512   0.14558357]...\n",
            "awesome: [ 1.9866399  0.9055047 -0.7493017 -0.5317862 -0.8689432]...\n",
            "!: [-0.9200196  -0.08114609  0.08567562 -1.8008881   0.09100179]...\n"
          ]
        }
      ]
    },
    {
      "cell_type": "markdown",
      "source": [
        "<img src=\"https://github.com/rastringer/code_first_ml/blob/main/images/word_vectors.png?raw=true\" width=\"500\"/>"
      ],
      "metadata": {
        "id": "RQ1j_n66VN0r"
      }
    },
    {
      "cell_type": "markdown",
      "source": [
        "## Attention\n",
        "\n",
        "There are two steps in the transformer during which the model learns what words and text mean. This in ML parlance is updating the \"hidden state\" for inputs to the model.\n",
        "\n",
        "The first is the attention stage, the transformer compares each word to all the other words in a sequence, looking for context and shared significance.\n",
        "\n",
        "The second is the feed forward step, where the model tries to capture more complex patterns and relationships between words. These are accomplished by mathematical transformations.\n",
        "\n",
        "<img src=\"https://github.com/rastringer/code_first_ml/blob/main/images/attention_diagram.png?raw=true\" width=\"800\"/>\n",
        "\n",
        "Show Chris Olah [diagram](https://distill.pub/2016/augmented-rnns/)"
      ],
      "metadata": {
        "id": "vHlu_HywWOoU"
      }
    },
    {
      "cell_type": "code",
      "source": [],
      "metadata": {
        "id": "HepFpPikQelu"
      },
      "execution_count": null,
      "outputs": []
    }
  ]
}