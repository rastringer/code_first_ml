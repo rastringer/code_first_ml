{
  "nbformat": 4,
  "nbformat_minor": 0,
  "metadata": {
    "colab": {
      "provenance": [],
      "include_colab_link": true
    },
    "kernelspec": {
      "name": "python3",
      "display_name": "Python 3"
    },
    "language_info": {
      "name": "python"
    }
  },
  "cells": [
    {
      "cell_type": "markdown",
      "metadata": {
        "id": "view-in-github",
        "colab_type": "text"
      },
      "source": [
        "<a href=\"https://colab.research.google.com/github/rastringer/code_first_ml/blob/main/matmul.ipynb\" target=\"_parent\"><img src=\"https://colab.research.google.com/assets/colab-badge.svg\" alt=\"Open In Colab\"/></a>"
      ]
    },
    {
      "cell_type": "code",
      "execution_count": null,
      "metadata": {
        "id": "kf8gMZ-ykQ1Z"
      },
      "outputs": [],
      "source": [
        "from pathlib import Path\n",
        "import pickle, gzip, math, os, time, shutil, matplotlib as mpl, matplotlib.pyplot as plt"
      ]
    },
    {
      "cell_type": "code",
      "source": [
        "import torch\n",
        "from torch import tensor"
      ],
      "metadata": {
        "id": "j9vOsd-0kVlb"
      },
      "execution_count": null,
      "outputs": []
    },
    {
      "cell_type": "markdown",
      "source": [
        "### Let's download the MNIST dataset using PyTorch"
      ],
      "metadata": {
        "id": "hK4ERQfv1QNZ"
      }
    },
    {
      "cell_type": "code",
      "source": [
        "import torch\n",
        "from torch.utils.data import Dataset\n",
        "from torchvision import datasets\n",
        "from torchvision.transforms import ToTensor\n",
        "import matplotlib.pyplot as plt\n",
        "\n",
        "\n",
        "training_data = datasets.MNIST(\n",
        "    root=\"data\",\n",
        "    train=True,\n",
        "    download=True,\n",
        "    transform=ToTensor()\n",
        ")\n",
        "\n",
        "test_data = datasets.MNIST(\n",
        "    root=\"data\",\n",
        "    train=False,\n",
        "    download=True,\n",
        "    transform=ToTensor()\n",
        ")"
      ],
      "metadata": {
        "colab": {
          "base_uri": "https://localhost:8080/"
        },
        "id": "RBAxqkAulQ-A",
        "outputId": "8e4c18ba-f4a2-4346-c2ff-f69ab9e9fb47"
      },
      "execution_count": null,
      "outputs": [
        {
          "output_type": "stream",
          "name": "stdout",
          "text": [
            "Downloading http://yann.lecun.com/exdb/mnist/train-images-idx3-ubyte.gz\n",
            "Downloading http://yann.lecun.com/exdb/mnist/train-images-idx3-ubyte.gz to data/MNIST/raw/train-images-idx3-ubyte.gz\n"
          ]
        },
        {
          "output_type": "stream",
          "name": "stderr",
          "text": [
            "100%|██████████| 9912422/9912422 [00:00<00:00, 93514093.21it/s]\n"
          ]
        },
        {
          "output_type": "stream",
          "name": "stdout",
          "text": [
            "Extracting data/MNIST/raw/train-images-idx3-ubyte.gz to data/MNIST/raw\n",
            "\n",
            "Downloading http://yann.lecun.com/exdb/mnist/train-labels-idx1-ubyte.gz\n",
            "Downloading http://yann.lecun.com/exdb/mnist/train-labels-idx1-ubyte.gz to data/MNIST/raw/train-labels-idx1-ubyte.gz\n"
          ]
        },
        {
          "output_type": "stream",
          "name": "stderr",
          "text": [
            "100%|██████████| 28881/28881 [00:00<00:00, 58946809.65it/s]\n"
          ]
        },
        {
          "output_type": "stream",
          "name": "stdout",
          "text": [
            "Extracting data/MNIST/raw/train-labels-idx1-ubyte.gz to data/MNIST/raw\n",
            "\n",
            "Downloading http://yann.lecun.com/exdb/mnist/t10k-images-idx3-ubyte.gz\n",
            "Downloading http://yann.lecun.com/exdb/mnist/t10k-images-idx3-ubyte.gz to data/MNIST/raw/t10k-images-idx3-ubyte.gz\n"
          ]
        },
        {
          "output_type": "stream",
          "name": "stderr",
          "text": [
            "100%|██████████| 1648877/1648877 [00:00<00:00, 25080568.04it/s]\n"
          ]
        },
        {
          "output_type": "stream",
          "name": "stdout",
          "text": [
            "Extracting data/MNIST/raw/t10k-images-idx3-ubyte.gz to data/MNIST/raw\n",
            "\n",
            "Downloading http://yann.lecun.com/exdb/mnist/t10k-labels-idx1-ubyte.gz\n",
            "Downloading http://yann.lecun.com/exdb/mnist/t10k-labels-idx1-ubyte.gz to data/MNIST/raw/t10k-labels-idx1-ubyte.gz\n"
          ]
        },
        {
          "output_type": "stream",
          "name": "stderr",
          "text": [
            "100%|██████████| 4542/4542 [00:00<00:00, 22679200.91it/s]\n"
          ]
        },
        {
          "output_type": "stream",
          "name": "stdout",
          "text": [
            "Extracting data/MNIST/raw/t10k-labels-idx1-ubyte.gz to data/MNIST/raw\n",
            "\n"
          ]
        }
      ]
    },
    {
      "cell_type": "code",
      "source": [
        "len(training_data)"
      ],
      "metadata": {
        "colab": {
          "base_uri": "https://localhost:8080/"
        },
        "id": "B_01IyXi1W3n",
        "outputId": "09444d7f-32bd-40d5-8663-5cfa43773fc9"
      },
      "execution_count": null,
      "outputs": [
        {
          "output_type": "execute_result",
          "data": {
            "text/plain": [
              "60000"
            ]
          },
          "metadata": {},
          "execution_count": 5
        }
      ]
    },
    {
      "cell_type": "markdown",
      "source": [
        "We have 60,000 images of the numbers 0-9.\n",
        "It would be helpful to access a single tensor however PyTorch's `DataLoader` divides the data into batches for efficient training.\n",
        "\n",
        "We can access and view different image tensors by extracting images and labels from individual batches:"
      ],
      "metadata": {
        "id": "Z42TgPES1ZPw"
      }
    },
    {
      "cell_type": "code",
      "source": [
        "from torch.utils.data import DataLoader\n",
        "\n",
        "\n",
        "# Create a DataLoader to handle batching and shuffling\n",
        "batch_size = 32\n",
        "train_loader = DataLoader(training_data, batch_size=batch_size, shuffle=True)\n",
        "\n",
        "# Access and view elements from the DataLoader\n",
        "for batch in train_loader:\n",
        "    images, labels = batch\n",
        "    # You can now work with the batch of images and labels\n",
        "    # For example, printing the shape of the batch\n",
        "    print(\"Batch of images shape:\", images.shape)\n",
        "    print(\"Batch of labels shape:\", labels.shape)\n",
        "    image_tensor = images[:5]\n",
        "    print(\"Image tensor shape:\", image_tensor.shape)\n",
        "    break  # Stop after processing the first batch"
      ],
      "metadata": {
        "colab": {
          "base_uri": "https://localhost:8080/"
        },
        "id": "rDPD6Szg1YkR",
        "outputId": "d628a7c1-6b1b-418f-b6a8-04db588c879d"
      },
      "execution_count": null,
      "outputs": [
        {
          "output_type": "stream",
          "name": "stdout",
          "text": [
            "Batch of images shape: torch.Size([32, 1, 28, 28])\n",
            "Batch of labels shape: torch.Size([32])\n",
            "Image tensor shape: torch.Size([5, 1, 28, 28])\n"
          ]
        }
      ]
    },
    {
      "cell_type": "markdown",
      "source": [
        "### What is shape?\n",
        "\n",
        "The number of rows or columns in a tensor."
      ],
      "metadata": {
        "id": "DngPF2jW92A7"
      }
    },
    {
      "cell_type": "markdown",
      "source": [
        "We also need to 'flatten' the image tensor since their current shape of [5, 1, 28, 28] (denoting 5 entries of 1 color channel and image size of 28 x 28 pixels) won't fit with our weights tensor. `"
      ],
      "metadata": {
        "id": "NSI5OYqu2F_7"
      }
    },
    {
      "cell_type": "code",
      "source": [
        "reshaped_images = image_tensor.view(image_tensor.size(0), -1)\n",
        "reshaped = reshaped_images[:5]\n",
        "reshaped.shape"
      ],
      "metadata": {
        "colab": {
          "base_uri": "https://localhost:8080/"
        },
        "id": "HU_CJssM2mJ3",
        "outputId": "8e6acbc9-5eb1-4b37-f47b-83a7984c061b"
      },
      "execution_count": null,
      "outputs": [
        {
          "output_type": "execute_result",
          "data": {
            "text/plain": [
              "torch.Size([5, 784])"
            ]
          },
          "metadata": {},
          "execution_count": 7
        }
      ]
    },
    {
      "cell_type": "code",
      "source": [
        "torch.manual_seed(1)\n",
        "weights = torch.randn(784, 10)\n",
        "bias = torch.zeros(10)"
      ],
      "metadata": {
        "id": "E9nNCMbPkh-D"
      },
      "execution_count": null,
      "outputs": []
    },
    {
      "cell_type": "code",
      "source": [
        "a = reshaped\n",
        "b = weights\n",
        "a.shape, b.shape"
      ],
      "metadata": {
        "colab": {
          "base_uri": "https://localhost:8080/"
        },
        "id": "2Qb3RE9AruTi",
        "outputId": "f88dce64-c461-4380-b4eb-1843f5b1f758"
      },
      "execution_count": null,
      "outputs": [
        {
          "output_type": "execute_result",
          "data": {
            "text/plain": [
              "(torch.Size([5, 784]), torch.Size([784, 10]))"
            ]
          },
          "metadata": {},
          "execution_count": 29
        }
      ]
    },
    {
      "cell_type": "code",
      "source": [
        "# a rows, a columns\n",
        "ar, ac = a.shape\n",
        "# b rows, b columns\n",
        "br, bc = b.shape\n",
        "\n",
        "(ar, ac), (br, bc)\n"
      ],
      "metadata": {
        "colab": {
          "base_uri": "https://localhost:8080/"
        },
        "id": "9dqql6vkr7wC",
        "outputId": "643074ed-1159-4147-dcdf-5e5e787c07b2"
      },
      "execution_count": null,
      "outputs": [
        {
          "output_type": "execute_result",
          "data": {
            "text/plain": [
              "((5, 784), (784, 10))"
            ]
          },
          "metadata": {},
          "execution_count": 30
        }
      ]
    },
    {
      "cell_type": "code",
      "source": [
        "t1 = torch.zeros(ar, bc)\n",
        "t1.shape"
      ],
      "metadata": {
        "colab": {
          "base_uri": "https://localhost:8080/"
        },
        "id": "-OABJUNtseN5",
        "outputId": "64dedc4a-85d0-47d3-8bbd-9f54321de39d"
      },
      "execution_count": null,
      "outputs": [
        {
          "output_type": "execute_result",
          "data": {
            "text/plain": [
              "torch.Size([5, 10])"
            ]
          },
          "metadata": {},
          "execution_count": 11
        }
      ]
    },
    {
      "cell_type": "code",
      "source": [
        "t1"
      ],
      "metadata": {
        "colab": {
          "base_uri": "https://localhost:8080/"
        },
        "id": "oWBWXeuZ4Q3Q",
        "outputId": "eddf3af4-942a-4293-a6d0-25b38e046f16"
      },
      "execution_count": null,
      "outputs": [
        {
          "output_type": "execute_result",
          "data": {
            "text/plain": [
              "tensor([[0., 0., 0., 0., 0., 0., 0., 0., 0., 0.],\n",
              "        [0., 0., 0., 0., 0., 0., 0., 0., 0., 0.],\n",
              "        [0., 0., 0., 0., 0., 0., 0., 0., 0., 0.],\n",
              "        [0., 0., 0., 0., 0., 0., 0., 0., 0., 0.],\n",
              "        [0., 0., 0., 0., 0., 0., 0., 0., 0., 0.]])"
            ]
          },
          "metadata": {},
          "execution_count": 12
        }
      ]
    },
    {
      "cell_type": "code",
      "source": [
        "def matmul_simple(a, b):\n",
        "  (ar,ac),(br,bc) = a.shape,b.shape\n",
        "  t1 = torch.zeros(ar, bc)\n",
        "  for i in range(ar):\n",
        "    for j in range(bc):\n",
        "      for k in range(ac):\n",
        "        t1[i][j] += a[i][k] * b[k][j]\n",
        "\n",
        "  return t1"
      ],
      "metadata": {
        "id": "kWo7p4I9siuB"
      },
      "execution_count": null,
      "outputs": []
    },
    {
      "cell_type": "code",
      "source": [
        "%timeit matmul_simple(a, b)"
      ],
      "metadata": {
        "colab": {
          "base_uri": "https://localhost:8080/"
        },
        "id": "RJGrkzZG-mTU",
        "outputId": "300e1666-5257-4f78-8d8b-391d8742ce39"
      },
      "execution_count": null,
      "outputs": [
        {
          "output_type": "stream",
          "name": "stdout",
          "text": [
            "512 ms ± 7.93 ms per loop (mean ± std. dev. of 7 runs, 1 loop each)\n"
          ]
        }
      ]
    },
    {
      "cell_type": "code",
      "source": [
        "t1 = matmul_simple(a, b)\n",
        "t1.shape"
      ],
      "metadata": {
        "colab": {
          "base_uri": "https://localhost:8080/"
        },
        "id": "uM50KFivspmK",
        "outputId": "431a64b6-ebe3-4744-b31d-1622e54888c8"
      },
      "execution_count": null,
      "outputs": [
        {
          "output_type": "execute_result",
          "data": {
            "text/plain": [
              "torch.Size([5, 10])"
            ]
          },
          "metadata": {},
          "execution_count": 15
        }
      ]
    },
    {
      "cell_type": "code",
      "source": [
        "torch.set_printoptions(precision=2, linewidth=140, sci_mode=False)\n",
        "t1"
      ],
      "metadata": {
        "colab": {
          "base_uri": "https://localhost:8080/"
        },
        "id": "9qQUyOxlssEp",
        "outputId": "79888b4b-49df-4146-ba44-54fd90f12d5c"
      },
      "execution_count": null,
      "outputs": [
        {
          "output_type": "execute_result",
          "data": {
            "text/plain": [
              "tensor([[  0.62, -14.26,   5.51, -22.86,  10.22, -15.22, -20.53,  -5.93, -22.84,   0.54],\n",
              "        [  5.72,   5.56,   4.61, -12.84,   0.03,   1.42,   0.48,  -0.96, -21.63,   3.16],\n",
              "        [ -5.18,   2.38, -13.61,  10.52,   6.80,  -2.36, -12.82, -11.39,  -4.25,   3.30],\n",
              "        [ 12.50,  -8.58,  -8.19, -14.78,  14.92,  -8.83, -11.98,  -4.13, -27.63,   1.97],\n",
              "        [  1.25, -11.63,  -3.09, -27.15,  19.21,  -0.34, -15.67, -15.94, -27.39,   5.93]])"
            ]
          },
          "metadata": {},
          "execution_count": 16
        }
      ]
    },
    {
      "cell_type": "markdown",
      "source": [
        "### Python to machine code via **Numba**.\n",
        "Numba means we can write Python that compiles, then runs at speed similar to C."
      ],
      "metadata": {
        "id": "uvRhQ4pOAC8x"
      }
    },
    {
      "cell_type": "code",
      "source": [
        "import numba as nb\n",
        "from numba import njit\n",
        "import numpy as np"
      ],
      "metadata": {
        "id": "AgEm_EMe_LE9"
      },
      "execution_count": null,
      "outputs": []
    },
    {
      "cell_type": "code",
      "source": [
        "a.shape"
      ],
      "metadata": {
        "colab": {
          "base_uri": "https://localhost:8080/"
        },
        "id": "OP-lbODtCojG",
        "outputId": "8dd7fd47-f4e6-49eb-c8a9-c8c9386e18a9"
      },
      "execution_count": null,
      "outputs": [
        {
          "output_type": "execute_result",
          "data": {
            "text/plain": [
              "torch.Size([5, 784])"
            ]
          },
          "metadata": {},
          "execution_count": 18
        }
      ]
    },
    {
      "cell_type": "markdown",
      "source": [
        "Numba doesn't work with PyTorch tensors, so we have to convert to numpy arrays"
      ],
      "metadata": {
        "id": "BaIV7lXXER83"
      }
    },
    {
      "cell_type": "code",
      "source": [
        "a_np = a.numpy()\n",
        "b_np = b.numpy()\n"
      ],
      "metadata": {
        "id": "zd5wgZvaDbhZ"
      },
      "execution_count": null,
      "outputs": []
    },
    {
      "cell_type": "code",
      "source": [
        "@nb.jit(nopython=True)\n",
        "def matmul_numba(a, b):\n",
        "  ar,ac = a_np.shape\n",
        "  br,bc = b_np.shape\n",
        "  t1 = np.zeros((ar, bc))\n",
        "  for i in range(ar):\n",
        "    for j in range(bc):\n",
        "      dot_product = 0.0\n",
        "      for k in range(ac):\n",
        "        dot_product += a[i][k] * b[k][j]\n",
        "      t1[i][j] = dot_product\n",
        "  return t1"
      ],
      "metadata": {
        "id": "5uJG5_YqAK2K"
      },
      "execution_count": null,
      "outputs": []
    },
    {
      "cell_type": "code",
      "source": [
        "%timeit matmul_numba(a_np, b_np)"
      ],
      "metadata": {
        "colab": {
          "base_uri": "https://localhost:8080/"
        },
        "id": "6jUSzEZoCFOD",
        "outputId": "9430b16c-d992-4b85-8595-a21fcccb9e03"
      },
      "execution_count": null,
      "outputs": [
        {
          "output_type": "stream",
          "name": "stdout",
          "text": [
            "45.7 µs ± 16.8 µs per loop (mean ± std. dev. of 7 runs, 1 loop each)\n"
          ]
        }
      ]
    },
    {
      "cell_type": "markdown",
      "source": [
        "### Broadcasting\n",
        "\n",
        "How can we perform efficient operation on objects of different shapes?"
      ],
      "metadata": {
        "id": "i2Jh0T6uBbGY"
      }
    },
    {
      "cell_type": "code",
      "source": [
        "a_tensor = tensor([10., 6, -4])\n",
        "b_tensor = tensor([2., 8, 7])\n"
      ],
      "metadata": {
        "id": "cq7sSaZ8Bny8"
      },
      "execution_count": null,
      "outputs": []
    },
    {
      "cell_type": "code",
      "source": [
        "a_tensor + 1"
      ],
      "metadata": {
        "colab": {
          "base_uri": "https://localhost:8080/"
        },
        "id": "tD3hzq2mBzbs",
        "outputId": "29c8e987-b086-4a5f-dedf-464a154b8064"
      },
      "execution_count": null,
      "outputs": [
        {
          "output_type": "execute_result",
          "data": {
            "text/plain": [
              "tensor([11.,  7., -3.])"
            ]
          },
          "metadata": {},
          "execution_count": 23
        }
      ]
    },
    {
      "cell_type": "code",
      "source": [
        "c_tensor = tensor([10,20,30])\n",
        "m_matrix = tensor([[1.,2.,3.],[4.,5.,6.],[7.,8.,9.]])"
      ],
      "metadata": {
        "id": "dBRmYyGpIxp0"
      },
      "execution_count": null,
      "outputs": []
    },
    {
      "cell_type": "code",
      "source": [
        "m_matrix"
      ],
      "metadata": {
        "colab": {
          "base_uri": "https://localhost:8080/"
        },
        "id": "gjTObmdKJCNE",
        "outputId": "3c24b927-1334-44a8-8a27-391d8e273d0d"
      },
      "execution_count": null,
      "outputs": [
        {
          "output_type": "execute_result",
          "data": {
            "text/plain": [
              "tensor([[1., 2., 3.],\n",
              "        [4., 5., 6.],\n",
              "        [7., 8., 9.]])"
            ]
          },
          "metadata": {},
          "execution_count": 39
        }
      ]
    },
    {
      "cell_type": "code",
      "source": [
        "m_matrix + c_tensor"
      ],
      "metadata": {
        "colab": {
          "base_uri": "https://localhost:8080/"
        },
        "id": "QsCtIfVUJFdq",
        "outputId": "d5e0b517-46f2-4efa-d797-be3c800b477a"
      },
      "execution_count": null,
      "outputs": [
        {
          "output_type": "execute_result",
          "data": {
            "text/plain": [
              "tensor([[11., 22., 33.],\n",
              "        [14., 25., 36.],\n",
              "        [17., 28., 39.]])"
            ]
          },
          "metadata": {},
          "execution_count": 41
        }
      ]
    },
    {
      "cell_type": "code",
      "source": [
        "c_tensor[None,:].shape"
      ],
      "metadata": {
        "colab": {
          "base_uri": "https://localhost:8080/"
        },
        "id": "A8Zw1c1gJMYl",
        "outputId": "57776d6c-b93e-4457-dae7-93aa8267050f"
      },
      "execution_count": null,
      "outputs": [
        {
          "output_type": "execute_result",
          "data": {
            "text/plain": [
              "torch.Size([1, 3])"
            ]
          },
          "metadata": {},
          "execution_count": 42
        }
      ]
    },
    {
      "cell_type": "markdown",
      "source": [
        "How is this happening? Let's check using a little-known method, `expand_as`."
      ],
      "metadata": {
        "id": "Uwo_2r_9JZVd"
      }
    },
    {
      "cell_type": "code",
      "source": [
        "c_tensor"
      ],
      "metadata": {
        "colab": {
          "base_uri": "https://localhost:8080/"
        },
        "id": "jORL9Y_kJsyg",
        "outputId": "5ae2bb30-38fb-4dc5-c5f9-1e20503413fc"
      },
      "execution_count": null,
      "outputs": [
        {
          "output_type": "execute_result",
          "data": {
            "text/plain": [
              "tensor([10, 20, 30])"
            ]
          },
          "metadata": {},
          "execution_count": 46
        }
      ]
    },
    {
      "cell_type": "code",
      "source": [
        "expanded = c_tensor.expand_as(m_matrix)\n",
        "expanded"
      ],
      "metadata": {
        "colab": {
          "base_uri": "https://localhost:8080/"
        },
        "id": "XWCMIlroJkD-",
        "outputId": "b68dd0b0-5c03-44fe-983a-c9a3d0fd2566"
      },
      "execution_count": null,
      "outputs": [
        {
          "output_type": "execute_result",
          "data": {
            "text/plain": [
              "tensor([[10, 20, 30],\n",
              "        [10, 20, 30],\n",
              "        [10, 20, 30]])"
            ]
          },
          "metadata": {},
          "execution_count": 45
        }
      ]
    },
    {
      "cell_type": "markdown",
      "source": [
        "After the expansion, `expanded` now acts as if it is a 3 x 3 matrix (and is the correct shape to be multipled with m_matrix). Though it looks like it has copied itself three times, in memory it is still just three values in one row. It simply acts as if it's a 3 x 3 matrix."
      ],
      "metadata": {
        "id": "-m6DMze7J0fY"
      }
    },
    {
      "cell_type": "code",
      "source": [
        "expanded.storage()"
      ],
      "metadata": {
        "colab": {
          "base_uri": "https://localhost:8080/"
        },
        "id": "SJ5GKgwdKWLM",
        "outputId": "d70adbb9-c07a-43a2-9f1f-293a5b013cb9"
      },
      "execution_count": null,
      "outputs": [
        {
          "output_type": "stream",
          "name": "stderr",
          "text": [
            "<ipython-input-47-fd5960d9720c>:1: UserWarning: TypedStorage is deprecated. It will be removed in the future and UntypedStorage will be the only storage class. This should only matter to you if you are using storages directly.  To access UntypedStorage directly, use tensor.untyped_storage() instead of tensor.storage()\n",
            "  expanded.storage()\n"
          ]
        },
        {
          "output_type": "execute_result",
          "data": {
            "text/plain": [
              " 10\n",
              " 20\n",
              " 30\n",
              "[torch.storage.TypedStorage(dtype=torch.int64, device=cpu) of size 3]"
            ]
          },
          "metadata": {},
          "execution_count": 47
        }
      ]
    },
    {
      "cell_type": "markdown",
      "source": [
        "### Strides\n",
        "\n",
        "NumPy achieves this slight of hand as follows: when the `expanded` tensor uses `stride` to read through the three rows required (in this case), it is in reality going across its [10,20,30] values three times.\n",
        "\n",
        "This is the also the technique used by deep learning frameworks such as JAX and PyTorch to avoid prohibitively expensive copies in order to multiply tensors and matrices of different shapes."
      ],
      "metadata": {
        "id": "ny6pQxoQKghs"
      }
    },
    {
      "cell_type": "code",
      "source": [
        "expanded.stride(), expanded.shape"
      ],
      "metadata": {
        "colab": {
          "base_uri": "https://localhost:8080/"
        },
        "id": "ojjgrdjHKaLB",
        "outputId": "0803d1ca-545d-4327-d661-d28340550c63"
      },
      "execution_count": null,
      "outputs": [
        {
          "output_type": "execute_result",
          "data": {
            "text/plain": [
              "((0, 1), torch.Size([3, 3]))"
            ]
          },
          "metadata": {},
          "execution_count": 48
        }
      ]
    },
    {
      "cell_type": "markdown",
      "source": [
        "### Unsqueeze and None\n",
        "\n",
        "We can also tweak shapes using `unsqueeze` and `None`. In this case, from a tensor to a matrix of 1 x 3 columns."
      ],
      "metadata": {
        "id": "Un9F9C58MauN"
      }
    },
    {
      "cell_type": "code",
      "source": [
        "c_tensor"
      ],
      "metadata": {
        "colab": {
          "base_uri": "https://localhost:8080/"
        },
        "id": "Ev_YiKGiMr5P",
        "outputId": "deb1c2ea-689c-4b7d-e49e-07a897a763d6"
      },
      "execution_count": null,
      "outputs": [
        {
          "output_type": "execute_result",
          "data": {
            "text/plain": [
              "tensor([10, 20, 30])"
            ]
          },
          "metadata": {},
          "execution_count": 51
        }
      ]
    },
    {
      "cell_type": "code",
      "source": [
        "c_tensor.unsqueeze(0)"
      ],
      "metadata": {
        "colab": {
          "base_uri": "https://localhost:8080/"
        },
        "id": "zVMTYu0yMjg_",
        "outputId": "7f341f4c-3ebd-46d5-effc-fbcaf01ff999"
      },
      "execution_count": null,
      "outputs": [
        {
          "output_type": "execute_result",
          "data": {
            "text/plain": [
              "tensor([[10, 20, 30]])"
            ]
          },
          "metadata": {},
          "execution_count": 50
        }
      ]
    },
    {
      "cell_type": "markdown",
      "source": [
        "`None` inserts a new axis, achieving the same result."
      ],
      "metadata": {
        "id": "cXT9WnwhM6yI"
      }
    },
    {
      "cell_type": "code",
      "source": [
        "# Create a matrix with one row\n",
        "c_tensor[None,:]"
      ],
      "metadata": {
        "colab": {
          "base_uri": "https://localhost:8080/"
        },
        "id": "n0CmWX-XMqsc",
        "outputId": "6ab87b62-2fe5-44ba-fa0f-dc3823a97718"
      },
      "execution_count": null,
      "outputs": [
        {
          "output_type": "execute_result",
          "data": {
            "text/plain": [
              "tensor([[10, 20, 30]])"
            ]
          },
          "metadata": {},
          "execution_count": 52
        }
      ]
    },
    {
      "cell_type": "markdown",
      "source": [
        "Unsqueezing into the first dimension means we have three rows of one column."
      ],
      "metadata": {
        "id": "5PeOTK5cNUKm"
      }
    },
    {
      "cell_type": "code",
      "source": [
        "c_tensor.unsqueeze(1)"
      ],
      "metadata": {
        "colab": {
          "base_uri": "https://localhost:8080/"
        },
        "id": "gbE1uQASMrOd",
        "outputId": "dfdc6466-bd88-4161-a410-1a70a3697355"
      },
      "execution_count": null,
      "outputs": [
        {
          "output_type": "execute_result",
          "data": {
            "text/plain": [
              "tensor([[10],\n",
              "        [20],\n",
              "        [30]])"
            ]
          },
          "metadata": {},
          "execution_count": 53
        }
      ]
    },
    {
      "cell_type": "code",
      "source": [
        "# Create a matrix with one column\n",
        "c_tensor[:, None]\n"
      ],
      "metadata": {
        "colab": {
          "base_uri": "https://localhost:8080/"
        },
        "id": "4DiN92N3NdtJ",
        "outputId": "1d5ef4ad-f3aa-4be6-ad6e-7e5a26a8c069"
      },
      "execution_count": null,
      "outputs": [
        {
          "output_type": "execute_result",
          "data": {
            "text/plain": [
              "tensor([[10],\n",
              "        [20],\n",
              "        [30]])"
            ]
          },
          "metadata": {},
          "execution_count": 55
        }
      ]
    },
    {
      "cell_type": "code",
      "source": [
        "t1"
      ],
      "metadata": {
        "colab": {
          "base_uri": "https://localhost:8080/"
        },
        "id": "-utTF0eIB0Fc",
        "outputId": "adbe7319-6f37-4aed-d125-8f16bab4fadb"
      },
      "execution_count": null,
      "outputs": [
        {
          "output_type": "execute_result",
          "data": {
            "text/plain": [
              "tensor([[  0.62, -14.26,   5.51, -22.86,  10.22, -15.22, -20.53,  -5.93, -22.84,   0.54],\n",
              "        [  5.72,   5.56,   4.61, -12.84,   0.03,   1.42,   0.48,  -0.96, -21.63,   3.16],\n",
              "        [ -5.18,   2.38, -13.61,  10.52,   6.80,  -2.36, -12.82, -11.39,  -4.25,   3.30],\n",
              "        [ 12.50,  -8.58,  -8.19, -14.78,  14.92,  -8.83, -11.98,  -4.13, -27.63,   1.97],\n",
              "        [  1.25, -11.63,  -3.09, -27.15,  19.21,  -0.34, -15.67, -15.94, -27.39,   5.93]])"
            ]
          },
          "metadata": {},
          "execution_count": 49
        }
      ]
    },
    {
      "cell_type": "markdown",
      "source": [
        "2 * a matrix will be broadcast across all rows and columns"
      ],
      "metadata": {
        "id": "rdauj64594UA"
      }
    },
    {
      "cell_type": "code",
      "source": [
        "2 * t1"
      ],
      "metadata": {
        "id": "v0g6KXIFCSMW",
        "colab": {
          "base_uri": "https://localhost:8080/"
        },
        "outputId": "553f73eb-b640-4c3d-f07e-ee8ebf83447c"
      },
      "execution_count": null,
      "outputs": [
        {
          "output_type": "execute_result",
          "data": {
            "text/plain": [
              "tensor([[  1.24, -28.51,  11.02, -45.73,  20.44, -30.43, -41.06, -11.86, -45.69,   1.08],\n",
              "        [ 11.45,  11.12,   9.22, -25.68,   0.06,   2.84,   0.97,  -1.93, -43.27,   6.31],\n",
              "        [-10.36,   4.77, -27.21,  21.05,  13.61,  -4.72, -25.64, -22.79,  -8.49,   6.60],\n",
              "        [ 25.00, -17.15, -16.39, -29.55,  29.84, -17.65, -23.96,  -8.26, -55.25,   3.94],\n",
              "        [  2.49, -23.26,  -6.18, -54.30,  38.42,  -0.67, -31.34, -31.88, -54.77,  11.86]])"
            ]
          },
          "metadata": {},
          "execution_count": 25
        }
      ]
    },
    {
      "cell_type": "code",
      "source": [
        "def matmul_broadcast(a,b):\n",
        "    (ar,ac),(br,bc) = a.shape,b.shape\n",
        "    c = torch.zeros(ar, bc)\n",
        "    for i in range(ar):\n",
        "#       c[i,j] = (a[i,:] * b[:,j]).sum()      # previous version\n",
        "        c[i]   = (a[i,:,None] * b).sum(dim=0) # broadcast version\n",
        "    return c"
      ],
      "metadata": {
        "id": "t0PRS5WXCWKh"
      },
      "execution_count": null,
      "outputs": []
    },
    {
      "cell_type": "code",
      "source": [
        "%timeit matmul_broadcast(a,b)"
      ],
      "metadata": {
        "colab": {
          "base_uri": "https://localhost:8080/"
        },
        "id": "GY5CcNsY-G0o",
        "outputId": "4bc01180-8690-4796-8c87-d5bc4082c614"
      },
      "execution_count": null,
      "outputs": [
        {
          "output_type": "stream",
          "name": "stdout",
          "text": [
            "128 µs ± 23.5 µs per loop (mean ± std. dev. of 7 runs, 10000 loops each)\n"
          ]
        }
      ]
    },
    {
      "cell_type": "code",
      "source": [],
      "metadata": {
        "id": "1RNw6cD2-JQP"
      },
      "execution_count": null,
      "outputs": []
    },
    {
      "cell_type": "markdown",
      "source": [
        "### Einstein summation\n",
        "\n",
        "_Einsum_ is a compact representation that combines sums and their products.\n",
        "\n",
        "* Repeating charactes between input arrays mean values along those axis are multiplied together.\n",
        "\n",
        "* Values along the axis of an omitted letter will be summed."
      ],
      "metadata": {
        "id": "xReh91Br-5lB"
      }
    },
    {
      "cell_type": "code",
      "source": [
        "a.shape, b.shape"
      ],
      "metadata": {
        "colab": {
          "base_uri": "https://localhost:8080/"
        },
        "id": "Y7pK33sy_WGt",
        "outputId": "50e6c0b5-af83-4a95-b348-663d69d17427"
      },
      "execution_count": null,
      "outputs": [
        {
          "output_type": "execute_result",
          "data": {
            "text/plain": [
              "(torch.Size([5, 784]), torch.Size([784, 10]))"
            ]
          },
          "metadata": {},
          "execution_count": 34
        }
      ]
    },
    {
      "cell_type": "code",
      "source": [
        "a"
      ],
      "metadata": {
        "colab": {
          "base_uri": "https://localhost:8080/"
        },
        "id": "lne01IqU_YTP",
        "outputId": "dfdc1875-38f8-48c6-ac4d-c636196b7f77"
      },
      "execution_count": null,
      "outputs": [
        {
          "output_type": "execute_result",
          "data": {
            "text/plain": [
              "tensor([[0., 0., 0.,  ..., 0., 0., 0.],\n",
              "        [0., 0., 0.,  ..., 0., 0., 0.],\n",
              "        [0., 0., 0.,  ..., 0., 0., 0.],\n",
              "        [0., 0., 0.,  ..., 0., 0., 0.],\n",
              "        [0., 0., 0.,  ..., 0., 0., 0.]])"
            ]
          },
          "metadata": {},
          "execution_count": 35
        }
      ]
    },
    {
      "cell_type": "code",
      "source": [
        "b"
      ],
      "metadata": {
        "colab": {
          "base_uri": "https://localhost:8080/"
        },
        "id": "U-aIbdh4IjDb",
        "outputId": "ac9d5480-ee32-49a4-b126-4cd34f84e5cc"
      },
      "execution_count": null,
      "outputs": [
        {
          "output_type": "execute_result",
          "data": {
            "text/plain": [
              "tensor([[-1.53, -0.75, -0.65,  ..., -1.61, -0.71,  0.30],\n",
              "        [-0.78, -0.25, -0.22,  ..., -1.16,  0.70,  0.20],\n",
              "        [ 0.87,  0.24, -0.66,  ..., -1.45,  0.06, -0.62],\n",
              "        ...,\n",
              "        [ 0.51,  0.47, -0.26,  ...,  0.65,  0.43, -1.29],\n",
              "        [ 0.52,  1.03,  0.81,  ..., -0.10,  2.26, -0.28],\n",
              "        [-1.49,  0.39, -0.55,  ..., -0.19, -0.51,  0.54]])"
            ]
          },
          "metadata": {},
          "execution_count": 36
        }
      ]
    },
    {
      "cell_type": "code",
      "source": [],
      "metadata": {
        "id": "aVbnJlIDIjmC"
      },
      "execution_count": null,
      "outputs": []
    }
  ]
}