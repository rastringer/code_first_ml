{
  "nbformat": 4,
  "nbformat_minor": 0,
  "metadata": {
    "colab": {
      "provenance": [],
      "gpuType": "T4",
      "include_colab_link": true
    },
    "kernelspec": {
      "name": "python3",
      "display_name": "Python 3"
    },
    "language_info": {
      "name": "python"
    },
    "accelerator": "GPU"
  },
  "cells": [
    {
      "cell_type": "markdown",
      "metadata": {
        "id": "view-in-github",
        "colab_type": "text"
      },
      "source": [
        "<a href=\"https://colab.research.google.com/github/rastringer/code_first_ml/blob/main/matmul.ipynb\" target=\"_parent\"><img src=\"https://colab.research.google.com/assets/colab-badge.svg\" alt=\"Open In Colab\"/></a>"
      ]
    },
    {
      "cell_type": "code",
      "execution_count": null,
      "metadata": {
        "id": "kf8gMZ-ykQ1Z"
      },
      "outputs": [],
      "source": [
        "from pathlib import Path\n",
        "import pickle, gzip, math, os, time, shutil, matplotlib as mpl, matplotlib.pyplot as plt"
      ]
    },
    {
      "cell_type": "code",
      "source": [
        "import torch\n",
        "from torch import tensor"
      ],
      "metadata": {
        "id": "j9vOsd-0kVlb"
      },
      "execution_count": null,
      "outputs": []
    },
    {
      "cell_type": "markdown",
      "source": [
        "### Let's download the MNIST dataset using PyTorch"
      ],
      "metadata": {
        "id": "hK4ERQfv1QNZ"
      }
    },
    {
      "cell_type": "code",
      "source": [
        "import torch\n",
        "from torch.utils.data import Dataset\n",
        "from torchvision import datasets, transforms\n",
        "from torchvision.transforms import ToTensor\n",
        "import matplotlib.pyplot as plt\n",
        "\n",
        "\n",
        "training_data = datasets.MNIST(\n",
        "    root=\"data\",\n",
        "    train=True,\n",
        "    download=True,\n",
        "    transform=ToTensor()\n",
        ")\n",
        "\n",
        "test_data = datasets.MNIST(\n",
        "    root=\"data\",\n",
        "    train=False,\n",
        "    download=True,\n",
        "    transform=ToTensor()\n",
        ")"
      ],
      "metadata": {
        "id": "RBAxqkAulQ-A",
        "colab": {
          "base_uri": "https://localhost:8080/"
        },
        "outputId": "a0b18e0c-781c-4668-bbba-949cb2839349"
      },
      "execution_count": null,
      "outputs": [
        {
          "output_type": "stream",
          "name": "stdout",
          "text": [
            "Downloading http://yann.lecun.com/exdb/mnist/train-images-idx3-ubyte.gz\n",
            "Downloading http://yann.lecun.com/exdb/mnist/train-images-idx3-ubyte.gz to data/MNIST/raw/train-images-idx3-ubyte.gz\n"
          ]
        },
        {
          "output_type": "stream",
          "name": "stderr",
          "text": [
            "100%|██████████| 9912422/9912422 [00:00<00:00, 104096203.14it/s]\n"
          ]
        },
        {
          "output_type": "stream",
          "name": "stdout",
          "text": [
            "Extracting data/MNIST/raw/train-images-idx3-ubyte.gz to data/MNIST/raw\n",
            "\n",
            "Downloading http://yann.lecun.com/exdb/mnist/train-labels-idx1-ubyte.gz\n",
            "Downloading http://yann.lecun.com/exdb/mnist/train-labels-idx1-ubyte.gz to data/MNIST/raw/train-labels-idx1-ubyte.gz\n"
          ]
        },
        {
          "output_type": "stream",
          "name": "stderr",
          "text": [
            "100%|██████████| 28881/28881 [00:00<00:00, 8066570.81it/s]\n"
          ]
        },
        {
          "output_type": "stream",
          "name": "stdout",
          "text": [
            "Extracting data/MNIST/raw/train-labels-idx1-ubyte.gz to data/MNIST/raw\n",
            "\n",
            "Downloading http://yann.lecun.com/exdb/mnist/t10k-images-idx3-ubyte.gz\n",
            "Downloading http://yann.lecun.com/exdb/mnist/t10k-images-idx3-ubyte.gz to data/MNIST/raw/t10k-images-idx3-ubyte.gz\n"
          ]
        },
        {
          "output_type": "stream",
          "name": "stderr",
          "text": [
            "100%|██████████| 1648877/1648877 [00:00<00:00, 49559229.77it/s]"
          ]
        },
        {
          "output_type": "stream",
          "name": "stdout",
          "text": [
            "Extracting data/MNIST/raw/t10k-images-idx3-ubyte.gz to data/MNIST/raw\n"
          ]
        },
        {
          "output_type": "stream",
          "name": "stderr",
          "text": [
            "\n"
          ]
        },
        {
          "output_type": "stream",
          "name": "stdout",
          "text": [
            "\n",
            "Downloading http://yann.lecun.com/exdb/mnist/t10k-labels-idx1-ubyte.gz\n",
            "Downloading http://yann.lecun.com/exdb/mnist/t10k-labels-idx1-ubyte.gz to data/MNIST/raw/t10k-labels-idx1-ubyte.gz\n"
          ]
        },
        {
          "output_type": "stream",
          "name": "stderr",
          "text": [
            "100%|██████████| 4542/4542 [00:00<00:00, 20707096.49it/s]"
          ]
        },
        {
          "output_type": "stream",
          "name": "stdout",
          "text": [
            "Extracting data/MNIST/raw/t10k-labels-idx1-ubyte.gz to data/MNIST/raw\n",
            "\n"
          ]
        },
        {
          "output_type": "stream",
          "name": "stderr",
          "text": [
            "\n"
          ]
        }
      ]
    },
    {
      "cell_type": "code",
      "source": [
        "len(training_data)"
      ],
      "metadata": {
        "colab": {
          "base_uri": "https://localhost:8080/"
        },
        "id": "B_01IyXi1W3n",
        "outputId": "2c8c3b53-2778-4735-d834-4b3dd88247e0"
      },
      "execution_count": null,
      "outputs": [
        {
          "output_type": "execute_result",
          "data": {
            "text/plain": [
              "60000"
            ]
          },
          "metadata": {},
          "execution_count": 4
        }
      ]
    },
    {
      "cell_type": "code",
      "source": [
        "transform = transforms.ToTensor()\n",
        "\n",
        "train_loader = torch.utils.data.DataLoader(training_data, batch_size=len(training_data), shuffle=True)\n",
        "# Get full train set\n",
        "x_train, y_train = next(iter(train_loader))\n",
        "\n",
        "# Reshape to (num_samples, 784)\n",
        "x_train = x_train.view(x_train.shape[0], -1)\n",
        "x_train.shape"
      ],
      "metadata": {
        "colab": {
          "base_uri": "https://localhost:8080/"
        },
        "id": "50ShQ-fIrNXk",
        "outputId": "1df1dfca-a25d-4498-91e9-1383e53c4627"
      },
      "execution_count": null,
      "outputs": [
        {
          "output_type": "execute_result",
          "data": {
            "text/plain": [
              "torch.Size([60000, 784])"
            ]
          },
          "metadata": {},
          "execution_count": 5
        }
      ]
    },
    {
      "cell_type": "markdown",
      "source": [
        "We have 60,000 images of the numbers 0-9.\n",
        "It would be helpful to access a single tensor however PyTorch's `DataLoader` divides the data into batches for efficient training.\n",
        "\n",
        "We can access and view different image tensors by extracting images and labels from individual batches:"
      ],
      "metadata": {
        "id": "Z42TgPES1ZPw"
      }
    },
    {
      "cell_type": "code",
      "source": [
        "from torch.utils.data import DataLoader\n",
        "\n",
        "\n",
        "# Create a DataLoader to handle batching and shuffling\n",
        "batch_size = 32\n",
        "train_loader = DataLoader(training_data, batch_size=batch_size, shuffle=True)\n",
        "\n",
        "# Access and view elements from the DataLoader\n",
        "for batch in train_loader:\n",
        "    images, labels = batch\n",
        "    # You can now work with the batch of images and labels\n",
        "    # For example, printing the shape of the batch\n",
        "    print(\"Batch of images shape:\", images.shape)\n",
        "    print(\"Batch of labels shape:\", labels.shape)\n",
        "    image_tensor = images[:5]\n",
        "    print(\"Image tensor shape:\", image_tensor.shape)\n",
        "    break  # Stop after processing the first batch"
      ],
      "metadata": {
        "colab": {
          "base_uri": "https://localhost:8080/"
        },
        "id": "rDPD6Szg1YkR",
        "outputId": "9788a506-2cc1-4372-a21b-3ac5b7d9d4ec"
      },
      "execution_count": null,
      "outputs": [
        {
          "output_type": "stream",
          "name": "stdout",
          "text": [
            "Batch of images shape: torch.Size([32, 1, 28, 28])\n",
            "Batch of labels shape: torch.Size([32])\n",
            "Image tensor shape: torch.Size([5, 1, 28, 28])\n"
          ]
        }
      ]
    },
    {
      "cell_type": "markdown",
      "source": [
        "### What is shape?\n",
        "\n",
        "The number of rows or columns in a tensor."
      ],
      "metadata": {
        "id": "DngPF2jW92A7"
      }
    },
    {
      "cell_type": "markdown",
      "source": [
        "We also need to 'flatten' the image tensor since the current shape of [5, 1, 28, 28] (denoting 5 entries of 1 color channel and image size of 28 x 28 pixels) won't fit with our weights tensor."
      ],
      "metadata": {
        "id": "NSI5OYqu2F_7"
      }
    },
    {
      "cell_type": "code",
      "source": [
        "reshaped_images = image_tensor.view(image_tensor.size(0), -1)\n",
        "reshaped = reshaped_images[:5]\n",
        "reshaped.shape"
      ],
      "metadata": {
        "colab": {
          "base_uri": "https://localhost:8080/"
        },
        "id": "HU_CJssM2mJ3",
        "outputId": "ead485ae-0c05-41e3-8e8c-6ca472837a5b"
      },
      "execution_count": null,
      "outputs": [
        {
          "output_type": "execute_result",
          "data": {
            "text/plain": [
              "torch.Size([5, 784])"
            ]
          },
          "metadata": {},
          "execution_count": 7
        }
      ]
    },
    {
      "cell_type": "code",
      "source": [
        "torch.manual_seed(1)\n",
        "weights = torch.randn(784, 10)\n",
        "bias = torch.zeros(10)"
      ],
      "metadata": {
        "id": "E9nNCMbPkh-D"
      },
      "execution_count": null,
      "outputs": []
    },
    {
      "cell_type": "code",
      "source": [
        "a = reshaped\n",
        "b = weights\n",
        "a.shape, b.shape"
      ],
      "metadata": {
        "colab": {
          "base_uri": "https://localhost:8080/"
        },
        "id": "2Qb3RE9AruTi",
        "outputId": "bc416b00-d7de-4764-a8c7-ba387e8f98ca"
      },
      "execution_count": null,
      "outputs": [
        {
          "output_type": "execute_result",
          "data": {
            "text/plain": [
              "(torch.Size([5, 784]), torch.Size([784, 10]))"
            ]
          },
          "metadata": {},
          "execution_count": 9
        }
      ]
    },
    {
      "cell_type": "code",
      "source": [
        "# a rows, a columns\n",
        "ar, ac = a.shape\n",
        "# b rows, b columns\n",
        "br, bc = b.shape\n",
        "\n",
        "(ar, ac), (br, bc)\n"
      ],
      "metadata": {
        "colab": {
          "base_uri": "https://localhost:8080/"
        },
        "id": "9dqql6vkr7wC",
        "outputId": "54743bc9-4ecd-4db5-a1d7-629347b4890c"
      },
      "execution_count": null,
      "outputs": [
        {
          "output_type": "execute_result",
          "data": {
            "text/plain": [
              "((5, 784), (784, 10))"
            ]
          },
          "metadata": {},
          "execution_count": 10
        }
      ]
    },
    {
      "cell_type": "code",
      "source": [
        "t1 = torch.zeros(ar, bc)\n",
        "t1.shape"
      ],
      "metadata": {
        "colab": {
          "base_uri": "https://localhost:8080/"
        },
        "id": "-OABJUNtseN5",
        "outputId": "8851dbf2-3671-4394-9797-e4641cafdcf9"
      },
      "execution_count": null,
      "outputs": [
        {
          "output_type": "execute_result",
          "data": {
            "text/plain": [
              "torch.Size([5, 10])"
            ]
          },
          "metadata": {},
          "execution_count": 11
        }
      ]
    },
    {
      "cell_type": "code",
      "source": [
        "t1"
      ],
      "metadata": {
        "colab": {
          "base_uri": "https://localhost:8080/"
        },
        "id": "oWBWXeuZ4Q3Q",
        "outputId": "173e3abd-7a15-4baa-8319-bc3c5335d40c"
      },
      "execution_count": null,
      "outputs": [
        {
          "output_type": "execute_result",
          "data": {
            "text/plain": [
              "tensor([[0., 0., 0., 0., 0., 0., 0., 0., 0., 0.],\n",
              "        [0., 0., 0., 0., 0., 0., 0., 0., 0., 0.],\n",
              "        [0., 0., 0., 0., 0., 0., 0., 0., 0., 0.],\n",
              "        [0., 0., 0., 0., 0., 0., 0., 0., 0., 0.],\n",
              "        [0., 0., 0., 0., 0., 0., 0., 0., 0., 0.]])"
            ]
          },
          "metadata": {},
          "execution_count": 12
        }
      ]
    },
    {
      "cell_type": "code",
      "source": [
        "def matmul_simple(a, b):\n",
        "  (ar,ac),(br,bc) = a.shape,b.shape\n",
        "  t1 = torch.zeros(ar, bc)\n",
        "  for i in range(ar):\n",
        "    for j in range(bc):\n",
        "      for k in range(ac):\n",
        "        t1[i][j] += a[i][k] * b[k][j]\n",
        "\n",
        "  return t1"
      ],
      "metadata": {
        "id": "kWo7p4I9siuB"
      },
      "execution_count": null,
      "outputs": []
    },
    {
      "cell_type": "code",
      "source": [
        "%timeit matmul_simple(a, b)"
      ],
      "metadata": {
        "colab": {
          "base_uri": "https://localhost:8080/"
        },
        "id": "RJGrkzZG-mTU",
        "outputId": "591b755e-df35-4a2b-aec4-5eb0ba57d9b1"
      },
      "execution_count": null,
      "outputs": [
        {
          "output_type": "stream",
          "name": "stdout",
          "text": [
            "956 ms ± 228 ms per loop (mean ± std. dev. of 7 runs, 1 loop each)\n"
          ]
        }
      ]
    },
    {
      "cell_type": "code",
      "source": [
        "t1 = matmul_simple(a, b)\n",
        "t1.shape"
      ],
      "metadata": {
        "colab": {
          "base_uri": "https://localhost:8080/"
        },
        "id": "uM50KFivspmK",
        "outputId": "359c2d08-5feb-4f5f-eccd-9217b185ccbf"
      },
      "execution_count": null,
      "outputs": [
        {
          "output_type": "execute_result",
          "data": {
            "text/plain": [
              "torch.Size([5, 10])"
            ]
          },
          "metadata": {},
          "execution_count": 15
        }
      ]
    },
    {
      "cell_type": "code",
      "source": [
        "torch.set_printoptions(precision=2, linewidth=140, sci_mode=False)\n",
        "t1"
      ],
      "metadata": {
        "colab": {
          "base_uri": "https://localhost:8080/"
        },
        "id": "9qQUyOxlssEp",
        "outputId": "c34f6d94-22d9-454b-da5f-8779228bce2e"
      },
      "execution_count": null,
      "outputs": [
        {
          "output_type": "execute_result",
          "data": {
            "text/plain": [
              "tensor([[  9.61,   4.74,  -8.53,  -5.38,  13.76,  -4.88, -19.45,  -8.67,   4.12,  19.27],\n",
              "        [  0.33,  -1.38, -14.74,  -0.24, -11.11,  -4.17, -15.35,   1.32,  -6.79,   2.15],\n",
              "        [  2.21,  -1.10, -12.73,  -0.47,   4.21,  -6.72, -15.29,  -3.26,  -4.43,  11.80],\n",
              "        [ -0.71,   3.71,  -4.32,  -3.57,  12.49,  -6.21, -27.57, -16.23, -23.68,   3.00],\n",
              "        [ -0.86,   1.47, -15.30,   2.81,  -3.78,  -0.57,  -7.47,   8.04, -22.77,  -5.03]])"
            ]
          },
          "metadata": {},
          "execution_count": 16
        }
      ]
    },
    {
      "cell_type": "markdown",
      "source": [
        "### Python to machine code via **Numba**.\n",
        "Numba means we can write Python that compiles, then runs at speed similar to C."
      ],
      "metadata": {
        "id": "uvRhQ4pOAC8x"
      }
    },
    {
      "cell_type": "code",
      "source": [
        "import numba as nb\n",
        "from numba import njit\n",
        "import numpy as np"
      ],
      "metadata": {
        "id": "AgEm_EMe_LE9"
      },
      "execution_count": null,
      "outputs": []
    },
    {
      "cell_type": "code",
      "source": [
        "a.shape"
      ],
      "metadata": {
        "colab": {
          "base_uri": "https://localhost:8080/"
        },
        "id": "OP-lbODtCojG",
        "outputId": "ba423b90-84e4-4f8f-a752-f60021eff1e1"
      },
      "execution_count": null,
      "outputs": [
        {
          "output_type": "execute_result",
          "data": {
            "text/plain": [
              "torch.Size([5, 784])"
            ]
          },
          "metadata": {},
          "execution_count": 18
        }
      ]
    },
    {
      "cell_type": "markdown",
      "source": [
        "Numba doesn't work with PyTorch tensors, so we have to convert to numpy arrays"
      ],
      "metadata": {
        "id": "BaIV7lXXER83"
      }
    },
    {
      "cell_type": "code",
      "source": [
        "a_np = a.numpy()\n",
        "b_np = b.numpy()\n"
      ],
      "metadata": {
        "id": "zd5wgZvaDbhZ"
      },
      "execution_count": null,
      "outputs": []
    },
    {
      "cell_type": "code",
      "source": [
        "@nb.jit(nopython=True)\n",
        "def matmul_numba(a, b):\n",
        "  ar,ac = a_np.shape\n",
        "  br,bc = b_np.shape\n",
        "  t1 = np.zeros((ar, bc))\n",
        "  for i in range(ar):\n",
        "    for j in range(bc):\n",
        "      dot_product = 0.0\n",
        "      for k in range(ac):\n",
        "        dot_product += a[i][k] * b[k][j]\n",
        "      t1[i][j] = dot_product\n",
        "  return t1"
      ],
      "metadata": {
        "id": "5uJG5_YqAK2K"
      },
      "execution_count": null,
      "outputs": []
    },
    {
      "cell_type": "code",
      "source": [
        "%timeit matmul_numba(a_np, b_np)"
      ],
      "metadata": {
        "colab": {
          "base_uri": "https://localhost:8080/"
        },
        "id": "6jUSzEZoCFOD",
        "outputId": "5957e315-a07b-48f0-c826-e6c27191a649"
      },
      "execution_count": null,
      "outputs": [
        {
          "output_type": "stream",
          "name": "stdout",
          "text": [
            "62.7 µs ± 9.02 µs per loop (mean ± std. dev. of 7 runs, 1 loop each)\n"
          ]
        }
      ]
    },
    {
      "cell_type": "markdown",
      "source": [
        "### Broadcasting\n",
        "\n",
        "How can we perform efficient operation on objects of different shapes?"
      ],
      "metadata": {
        "id": "i2Jh0T6uBbGY"
      }
    },
    {
      "cell_type": "code",
      "source": [
        "a_tensor = tensor([10., 6, -4])\n",
        "b_tensor = tensor([2., 8, 7])\n"
      ],
      "metadata": {
        "id": "cq7sSaZ8Bny8"
      },
      "execution_count": null,
      "outputs": []
    },
    {
      "cell_type": "code",
      "source": [
        "a_tensor + 1"
      ],
      "metadata": {
        "colab": {
          "base_uri": "https://localhost:8080/"
        },
        "id": "tD3hzq2mBzbs",
        "outputId": "bb147003-0c91-4903-c8aa-069dce1c0652"
      },
      "execution_count": null,
      "outputs": [
        {
          "output_type": "execute_result",
          "data": {
            "text/plain": [
              "tensor([11.,  7., -3.])"
            ]
          },
          "metadata": {},
          "execution_count": 23
        }
      ]
    },
    {
      "cell_type": "code",
      "source": [
        "c_tensor = tensor([10,20,30])\n",
        "m_matrix = tensor([[1.,2.,3.],[4.,5.,6.],[7.,8.,9.]])"
      ],
      "metadata": {
        "id": "dBRmYyGpIxp0"
      },
      "execution_count": null,
      "outputs": []
    },
    {
      "cell_type": "code",
      "source": [
        "m_matrix"
      ],
      "metadata": {
        "colab": {
          "base_uri": "https://localhost:8080/"
        },
        "id": "gjTObmdKJCNE",
        "outputId": "d968e645-872c-4b90-ba12-357650b477cb"
      },
      "execution_count": null,
      "outputs": [
        {
          "output_type": "execute_result",
          "data": {
            "text/plain": [
              "tensor([[1., 2., 3.],\n",
              "        [4., 5., 6.],\n",
              "        [7., 8., 9.]])"
            ]
          },
          "metadata": {},
          "execution_count": 25
        }
      ]
    },
    {
      "cell_type": "code",
      "source": [
        "m_matrix + c_tensor"
      ],
      "metadata": {
        "colab": {
          "base_uri": "https://localhost:8080/"
        },
        "id": "QsCtIfVUJFdq",
        "outputId": "e651da4c-69d4-4ad4-fea6-8d3255d6021f"
      },
      "execution_count": null,
      "outputs": [
        {
          "output_type": "execute_result",
          "data": {
            "text/plain": [
              "tensor([[11., 22., 33.],\n",
              "        [14., 25., 36.],\n",
              "        [17., 28., 39.]])"
            ]
          },
          "metadata": {},
          "execution_count": 26
        }
      ]
    },
    {
      "cell_type": "code",
      "source": [
        "c_tensor[None,:].shape"
      ],
      "metadata": {
        "colab": {
          "base_uri": "https://localhost:8080/"
        },
        "id": "A8Zw1c1gJMYl",
        "outputId": "46fa0c38-7f59-4751-d3a6-6b4c8aeb2255"
      },
      "execution_count": null,
      "outputs": [
        {
          "output_type": "execute_result",
          "data": {
            "text/plain": [
              "torch.Size([1, 3])"
            ]
          },
          "metadata": {},
          "execution_count": 27
        }
      ]
    },
    {
      "cell_type": "markdown",
      "source": [
        "How is this happening? Let's check using a little-known method, `expand_as`."
      ],
      "metadata": {
        "id": "Uwo_2r_9JZVd"
      }
    },
    {
      "cell_type": "code",
      "source": [
        "c_tensor"
      ],
      "metadata": {
        "colab": {
          "base_uri": "https://localhost:8080/"
        },
        "id": "jORL9Y_kJsyg",
        "outputId": "1e167825-6dde-4d64-cfe0-805b6a09d0ac"
      },
      "execution_count": null,
      "outputs": [
        {
          "output_type": "execute_result",
          "data": {
            "text/plain": [
              "tensor([10, 20, 30])"
            ]
          },
          "metadata": {},
          "execution_count": 28
        }
      ]
    },
    {
      "cell_type": "code",
      "source": [
        "expanded = c_tensor.expand_as(m_matrix)\n",
        "expanded"
      ],
      "metadata": {
        "colab": {
          "base_uri": "https://localhost:8080/"
        },
        "id": "XWCMIlroJkD-",
        "outputId": "33891f4a-eef4-412e-be70-360a84d8db97"
      },
      "execution_count": null,
      "outputs": [
        {
          "output_type": "execute_result",
          "data": {
            "text/plain": [
              "tensor([[10, 20, 30],\n",
              "        [10, 20, 30],\n",
              "        [10, 20, 30]])"
            ]
          },
          "metadata": {},
          "execution_count": 29
        }
      ]
    },
    {
      "cell_type": "markdown",
      "source": [
        "After the expansion, `expanded` now acts as if it is a 3 x 3 matrix (and is the correct shape to be multipled with m_matrix). Though it looks like it has copied itself three times, in memory it is still just three values in one row. It simply acts as if it's a 3 x 3 matrix."
      ],
      "metadata": {
        "id": "-m6DMze7J0fY"
      }
    },
    {
      "cell_type": "code",
      "source": [
        "expanded.storage()"
      ],
      "metadata": {
        "colab": {
          "base_uri": "https://localhost:8080/"
        },
        "id": "SJ5GKgwdKWLM",
        "outputId": "426d1d4b-46bd-4697-c942-c67ea3917353"
      },
      "execution_count": null,
      "outputs": [
        {
          "output_type": "stream",
          "name": "stderr",
          "text": [
            "<ipython-input-30-fd5960d9720c>:1: UserWarning: TypedStorage is deprecated. It will be removed in the future and UntypedStorage will be the only storage class. This should only matter to you if you are using storages directly.  To access UntypedStorage directly, use tensor.untyped_storage() instead of tensor.storage()\n",
            "  expanded.storage()\n"
          ]
        },
        {
          "output_type": "execute_result",
          "data": {
            "text/plain": [
              " 10\n",
              " 20\n",
              " 30\n",
              "[torch.storage.TypedStorage(dtype=torch.int64, device=cpu) of size 3]"
            ]
          },
          "metadata": {},
          "execution_count": 30
        }
      ]
    },
    {
      "cell_type": "markdown",
      "source": [
        "### Strides\n",
        "\n",
        "NumPy achieves this slight of hand as follows: when the `expanded` tensor uses `stride` to read through the three rows required (in this case), it is in reality going across its [10,20,30] values three times.\n",
        "\n",
        "This is the also the technique used by deep learning frameworks such as JAX and PyTorch to avoid prohibitively expensive copies in order to multiply tensors and matrices of different shapes."
      ],
      "metadata": {
        "id": "ny6pQxoQKghs"
      }
    },
    {
      "cell_type": "code",
      "source": [
        "expanded.stride(), expanded.shape"
      ],
      "metadata": {
        "colab": {
          "base_uri": "https://localhost:8080/"
        },
        "id": "ojjgrdjHKaLB",
        "outputId": "05130592-f222-425e-cae2-92070ce6317b"
      },
      "execution_count": null,
      "outputs": [
        {
          "output_type": "execute_result",
          "data": {
            "text/plain": [
              "((0, 1), torch.Size([3, 3]))"
            ]
          },
          "metadata": {},
          "execution_count": 31
        }
      ]
    },
    {
      "cell_type": "markdown",
      "source": [
        "### Unsqueeze and None\n",
        "\n",
        "We can also tweak shapes using `unsqueeze` and `None`. In this case, from a tensor to a matrix of 1 x 3 columns."
      ],
      "metadata": {
        "id": "Un9F9C58MauN"
      }
    },
    {
      "cell_type": "code",
      "source": [
        "c_tensor"
      ],
      "metadata": {
        "colab": {
          "base_uri": "https://localhost:8080/"
        },
        "id": "Ev_YiKGiMr5P",
        "outputId": "8ba2f130-cd93-472b-c09b-d9fa14e500b0"
      },
      "execution_count": null,
      "outputs": [
        {
          "output_type": "execute_result",
          "data": {
            "text/plain": [
              "tensor([10, 20, 30])"
            ]
          },
          "metadata": {},
          "execution_count": 32
        }
      ]
    },
    {
      "cell_type": "code",
      "source": [
        "c_tensor.unsqueeze(0)"
      ],
      "metadata": {
        "colab": {
          "base_uri": "https://localhost:8080/"
        },
        "id": "zVMTYu0yMjg_",
        "outputId": "545e27af-768e-435d-96b9-d61363905c28"
      },
      "execution_count": null,
      "outputs": [
        {
          "output_type": "execute_result",
          "data": {
            "text/plain": [
              "tensor([[10, 20, 30]])"
            ]
          },
          "metadata": {},
          "execution_count": 33
        }
      ]
    },
    {
      "cell_type": "markdown",
      "source": [
        "`None` inserts a new axis, achieving the same result."
      ],
      "metadata": {
        "id": "cXT9WnwhM6yI"
      }
    },
    {
      "cell_type": "code",
      "source": [
        "# Create a matrix with one row\n",
        "c_tensor[None,:]"
      ],
      "metadata": {
        "colab": {
          "base_uri": "https://localhost:8080/"
        },
        "id": "n0CmWX-XMqsc",
        "outputId": "00a11423-b744-41ee-b051-a29ca4e16aeb"
      },
      "execution_count": null,
      "outputs": [
        {
          "output_type": "execute_result",
          "data": {
            "text/plain": [
              "tensor([[10, 20, 30]])"
            ]
          },
          "metadata": {},
          "execution_count": 34
        }
      ]
    },
    {
      "cell_type": "markdown",
      "source": [
        "Unsqueezing into the first dimension means we have three rows of one column."
      ],
      "metadata": {
        "id": "5PeOTK5cNUKm"
      }
    },
    {
      "cell_type": "code",
      "source": [
        "c_tensor.unsqueeze(1)"
      ],
      "metadata": {
        "colab": {
          "base_uri": "https://localhost:8080/"
        },
        "id": "gbE1uQASMrOd",
        "outputId": "7cb6d157-c379-4680-9cbb-f162d7116054"
      },
      "execution_count": null,
      "outputs": [
        {
          "output_type": "execute_result",
          "data": {
            "text/plain": [
              "tensor([[10],\n",
              "        [20],\n",
              "        [30]])"
            ]
          },
          "metadata": {},
          "execution_count": 35
        }
      ]
    },
    {
      "cell_type": "code",
      "source": [
        "# Create a matrix with one column\n",
        "c_tensor[:, None]\n"
      ],
      "metadata": {
        "colab": {
          "base_uri": "https://localhost:8080/"
        },
        "id": "4DiN92N3NdtJ",
        "outputId": "09f7cbda-aee2-4652-86a5-cdea8bdd94ed"
      },
      "execution_count": null,
      "outputs": [
        {
          "output_type": "execute_result",
          "data": {
            "text/plain": [
              "tensor([[10],\n",
              "        [20],\n",
              "        [30]])"
            ]
          },
          "metadata": {},
          "execution_count": 36
        }
      ]
    },
    {
      "cell_type": "code",
      "source": [
        "t1"
      ],
      "metadata": {
        "colab": {
          "base_uri": "https://localhost:8080/"
        },
        "id": "-utTF0eIB0Fc",
        "outputId": "2131e60f-f69b-4e03-c7a9-51f0c6637c78"
      },
      "execution_count": null,
      "outputs": [
        {
          "output_type": "execute_result",
          "data": {
            "text/plain": [
              "tensor([[  9.61,   4.74,  -8.53,  -5.38,  13.76,  -4.88, -19.45,  -8.67,   4.12,  19.27],\n",
              "        [  0.33,  -1.38, -14.74,  -0.24, -11.11,  -4.17, -15.35,   1.32,  -6.79,   2.15],\n",
              "        [  2.21,  -1.10, -12.73,  -0.47,   4.21,  -6.72, -15.29,  -3.26,  -4.43,  11.80],\n",
              "        [ -0.71,   3.71,  -4.32,  -3.57,  12.49,  -6.21, -27.57, -16.23, -23.68,   3.00],\n",
              "        [ -0.86,   1.47, -15.30,   2.81,  -3.78,  -0.57,  -7.47,   8.04, -22.77,  -5.03]])"
            ]
          },
          "metadata": {},
          "execution_count": 37
        }
      ]
    },
    {
      "cell_type": "markdown",
      "source": [
        "2 * a matrix will be broadcast across all rows and columns"
      ],
      "metadata": {
        "id": "rdauj64594UA"
      }
    },
    {
      "cell_type": "code",
      "source": [
        "2 * t1"
      ],
      "metadata": {
        "id": "v0g6KXIFCSMW",
        "colab": {
          "base_uri": "https://localhost:8080/"
        },
        "outputId": "677248df-9cea-422e-f90a-8802394711a4"
      },
      "execution_count": null,
      "outputs": [
        {
          "output_type": "execute_result",
          "data": {
            "text/plain": [
              "tensor([[ 19.22,   9.48, -17.06, -10.76,  27.51,  -9.77, -38.91, -17.34,   8.24,  38.53],\n",
              "        [  0.66,  -2.76, -29.49,  -0.49, -22.22,  -8.35, -30.70,   2.64, -13.59,   4.31],\n",
              "        [  4.42,  -2.20, -25.45,  -0.94,   8.41, -13.43, -30.58,  -6.52,  -8.87,  23.60],\n",
              "        [ -1.42,   7.42,  -8.64,  -7.15,  24.98, -12.42, -55.13, -32.45, -47.36,   6.00],\n",
              "        [ -1.72,   2.94, -30.61,   5.62,  -7.56,  -1.14, -14.95,  16.08, -45.54, -10.07]])"
            ]
          },
          "metadata": {},
          "execution_count": 38
        }
      ]
    },
    {
      "cell_type": "markdown",
      "source": [
        "Note that our original loops, which looked like this:\n",
        "```\n",
        "for i in range(ar):\n",
        "    for j in range(bc):\n",
        "      for k in range(ac):\n",
        "        t1[i][j] += a[i][k] * b[k][j]\n",
        " ```\n",
        " have now been replaced by the single line `c[i] = ...`. This greatly speeds up the operation."
      ],
      "metadata": {
        "id": "bG_qPH4vErTp"
      }
    },
    {
      "cell_type": "code",
      "source": [
        "def matmul_broadcast(a,b):\n",
        "    (ar,ac),(br,bc) = a.shape,b.shape\n",
        "    c = torch.zeros(ar, bc)\n",
        "    for i in range(ar):\n",
        "#       c[i,j] = (a[i,:] * b[:,j]).sum()      # previous version\n",
        "        c[i]   = (a[i,:,None] * b).sum(dim=0) # broadcast version\n",
        "    return c"
      ],
      "metadata": {
        "id": "t0PRS5WXCWKh"
      },
      "execution_count": null,
      "outputs": []
    },
    {
      "cell_type": "code",
      "source": [
        "%timeit matmul_broadcast(a,b)"
      ],
      "metadata": {
        "colab": {
          "base_uri": "https://localhost:8080/"
        },
        "id": "GY5CcNsY-G0o",
        "outputId": "7ace971f-7dcd-40b3-b88b-e3125f544023"
      },
      "execution_count": null,
      "outputs": [
        {
          "output_type": "stream",
          "name": "stdout",
          "text": [
            "170 µs ± 31 µs per loop (mean ± std. dev. of 7 runs, 10000 loops each)\n"
          ]
        }
      ]
    },
    {
      "cell_type": "markdown",
      "source": [
        "### Einstein summation\n",
        "\n",
        "_Einsum_ is a compact representation that combines sums and their products.\n",
        "\n",
        "* Repeating charactes between input arrays mean values along those axis are multiplied together.\n",
        "\n",
        "* Values along the axis of an omitted letter will be summed."
      ],
      "metadata": {
        "id": "xReh91Br-5lB"
      }
    },
    {
      "cell_type": "code",
      "source": [
        "a.shape, b.shape"
      ],
      "metadata": {
        "colab": {
          "base_uri": "https://localhost:8080/"
        },
        "id": "Y7pK33sy_WGt",
        "outputId": "b6f1cf5f-344a-460d-d84d-7e0834a53577"
      },
      "execution_count": null,
      "outputs": [
        {
          "output_type": "execute_result",
          "data": {
            "text/plain": [
              "(torch.Size([5, 784]), torch.Size([784, 10]))"
            ]
          },
          "metadata": {},
          "execution_count": 41
        }
      ]
    },
    {
      "cell_type": "code",
      "source": [
        "a"
      ],
      "metadata": {
        "colab": {
          "base_uri": "https://localhost:8080/"
        },
        "id": "lne01IqU_YTP",
        "outputId": "111d1948-170b-483d-d179-73e2d2c55c78"
      },
      "execution_count": null,
      "outputs": [
        {
          "output_type": "execute_result",
          "data": {
            "text/plain": [
              "tensor([[0., 0., 0.,  ..., 0., 0., 0.],\n",
              "        [0., 0., 0.,  ..., 0., 0., 0.],\n",
              "        [0., 0., 0.,  ..., 0., 0., 0.],\n",
              "        [0., 0., 0.,  ..., 0., 0., 0.],\n",
              "        [0., 0., 0.,  ..., 0., 0., 0.]])"
            ]
          },
          "metadata": {},
          "execution_count": 42
        }
      ]
    },
    {
      "cell_type": "code",
      "source": [
        "b"
      ],
      "metadata": {
        "colab": {
          "base_uri": "https://localhost:8080/"
        },
        "id": "U-aIbdh4IjDb",
        "outputId": "eb92ed3f-74f2-43d3-bc3f-afd38fd5bd28"
      },
      "execution_count": null,
      "outputs": [
        {
          "output_type": "execute_result",
          "data": {
            "text/plain": [
              "tensor([[-1.53, -0.75, -0.65,  ..., -1.61, -0.71,  0.30],\n",
              "        [-0.78, -0.25, -0.22,  ..., -1.16,  0.70,  0.20],\n",
              "        [ 0.87,  0.24, -0.66,  ..., -1.45,  0.06, -0.62],\n",
              "        ...,\n",
              "        [ 0.51,  0.47, -0.26,  ...,  0.65,  0.43, -1.29],\n",
              "        [ 0.52,  1.03,  0.81,  ..., -0.10,  2.26, -0.28],\n",
              "        [-1.49,  0.39, -0.55,  ..., -0.19, -0.51,  0.54]])"
            ]
          },
          "metadata": {},
          "execution_count": 43
        }
      ]
    },
    {
      "cell_type": "code",
      "source": [
        "# This is the same as writing our variants\n",
        "# from above\n",
        "# c[i,j] = (a[i,:] * b[:,j]).sum()      # earlier version\n",
        "# c[i]   = (a[i,:,None] * b).sum(dim=0) # broadcast version\n",
        "\n",
        "matrix = torch.einsum('ik,kj->ikj', a, b)\n",
        "matrix.shape"
      ],
      "metadata": {
        "id": "aVbnJlIDIjmC",
        "colab": {
          "base_uri": "https://localhost:8080/"
        },
        "outputId": "de79524d-c356-4285-94b8-3e829fe23660"
      },
      "execution_count": null,
      "outputs": [
        {
          "output_type": "execute_result",
          "data": {
            "text/plain": [
              "torch.Size([5, 784, 10])"
            ]
          },
          "metadata": {},
          "execution_count": 44
        }
      ]
    },
    {
      "cell_type": "markdown",
      "source": [
        "In the result, we see `5, 784, 10`, which denotes:\n",
        "_5_ for the original rows of _a_\n",
        "_10_ for the original columns of _b_\n",
        "and _784_ results the multiplication."
      ],
      "metadata": {
        "id": "ocIK8fzvhrX6"
      }
    },
    {
      "cell_type": "code",
      "source": [
        "# Results should match those for `t1` above.\n",
        "matrix.sum(1)"
      ],
      "metadata": {
        "colab": {
          "base_uri": "https://localhost:8080/"
        },
        "id": "GlK6WIaKiNnN",
        "outputId": "437716a6-bdc6-43a3-bd95-a3e80621d1d3"
      },
      "execution_count": null,
      "outputs": [
        {
          "output_type": "execute_result",
          "data": {
            "text/plain": [
              "tensor([[  9.61,   4.74,  -8.53,  -5.38,  13.76,  -4.88, -19.45,  -8.67,   4.12,  19.27],\n",
              "        [  0.33,  -1.38, -14.74,  -0.24, -11.11,  -4.17, -15.35,   1.32,  -6.79,   2.15],\n",
              "        [  2.21,  -1.10, -12.73,  -0.47,   4.21,  -6.72, -15.29,  -3.26,  -4.43,  11.80],\n",
              "        [ -0.71,   3.71,  -4.32,  -3.57,  12.49,  -6.21, -27.57, -16.23, -23.68,   3.00],\n",
              "        [ -0.86,   1.47, -15.30,   2.81,  -3.78,  -0.57,  -7.47,   8.04, -22.77,  -5.03]])"
            ]
          },
          "metadata": {},
          "execution_count": 45
        }
      ]
    },
    {
      "cell_type": "markdown",
      "source": [
        "Let's look at what just happened in detail.\n",
        "`'ik,kj->ikj'`\n",
        "In this expression, the inputs are the the left of the `->`, the outputs to the right.\n",
        "The characters denote rows and columns.\n",
        "Here, we refer to two matrices, one of\n",
        "`i` rows and `k` columns and one of\n",
        "`k` rows and `j` columns.\n",
        "\n",
        "The output is a new matrix containing\n",
        "`i` dimensions and `j` columns.\n",
        "\n",
        "The repeated index 'k' indicates that we sum over it. So for each output entry matrix[i,j], we compute:\n",
        "\n",
        "matrix[i,j] = Σ_k a[i,k] * b[k,j]\n",
        "\n",
        "In other words, we take the matrix product of a and b by summing over the common dimension k.\n",
        "\n",
        "In this way, Enstein summation frees us from expliciting writing the multiplication in a loop. Broadcasting the matrices, multiplying elements and summing all happens in one line."
      ],
      "metadata": {
        "id": "F6odfyUXFhyc"
      }
    },
    {
      "cell_type": "code",
      "source": [
        "# If we remove the `k` from the ouptut,\n",
        "# the sum happens automatically\n",
        "torch.einsum('ik,kj->ij', a, b)"
      ],
      "metadata": {
        "colab": {
          "base_uri": "https://localhost:8080/"
        },
        "id": "bKHqALG1DuVJ",
        "outputId": "4edf8f8b-e0b3-4db8-d490-523f082942a3"
      },
      "execution_count": null,
      "outputs": [
        {
          "output_type": "execute_result",
          "data": {
            "text/plain": [
              "tensor([[  9.61,   4.74,  -8.53,  -5.38,  13.76,  -4.88, -19.45,  -8.67,   4.12,  19.27],\n",
              "        [  0.33,  -1.38, -14.74,  -0.24, -11.11,  -4.17, -15.35,   1.32,  -6.79,   2.15],\n",
              "        [  2.21,  -1.10, -12.73,  -0.47,   4.21,  -6.72, -15.29,  -3.26,  -4.43,  11.80],\n",
              "        [ -0.71,   3.71,  -4.32,  -3.57,  12.49,  -6.21, -27.57, -16.23, -23.68,   3.00],\n",
              "        [ -0.86,   1.47, -15.30,   2.81,  -3.78,  -0.57,  -7.47,   8.04, -22.77,  -5.03]])"
            ]
          },
          "metadata": {},
          "execution_count": 46
        }
      ]
    },
    {
      "cell_type": "code",
      "source": [
        "def matmul_einsum(a, b):\n",
        "  return torch.einsum('ik,kj->ij', a, b)"
      ],
      "metadata": {
        "id": "bjLt2QysD9jW"
      },
      "execution_count": null,
      "outputs": []
    },
    {
      "cell_type": "code",
      "source": [
        "%timeit matmul_einsum(x_train, weights)"
      ],
      "metadata": {
        "colab": {
          "base_uri": "https://localhost:8080/"
        },
        "id": "dAA0ODqfoxRp",
        "outputId": "2c30504c-b370-4008-ec39-ed333fd9fba6"
      },
      "execution_count": null,
      "outputs": [
        {
          "output_type": "stream",
          "name": "stdout",
          "text": [
            "31.9 ms ± 450 µs per loop (mean ± std. dev. of 7 runs, 10 loops each)\n"
          ]
        }
      ]
    },
    {
      "cell_type": "markdown",
      "source": [
        "We can also just use `torch.matmul`"
      ],
      "metadata": {
        "id": "Bv3VVljCr1qw"
      }
    },
    {
      "cell_type": "code",
      "source": [
        "%timeit torch.matmul(x_train, weights)"
      ],
      "metadata": {
        "colab": {
          "base_uri": "https://localhost:8080/"
        },
        "id": "hbcdheqGo2No",
        "outputId": "8be9757e-6858-417e-ae8a-6410293da842"
      },
      "execution_count": null,
      "outputs": [
        {
          "output_type": "stream",
          "name": "stdout",
          "text": [
            "31.8 ms ± 890 µs per loop (mean ± std. dev. of 7 runs, 10 loops each)\n"
          ]
        }
      ]
    },
    {
      "cell_type": "markdown",
      "source": [
        "### Cuda\n",
        "\n",
        "GPUs vastly speed up operations by carrying out functions in parallel."
      ],
      "metadata": {
        "id": "3ec2PNsMtfu3"
      }
    },
    {
      "cell_type": "code",
      "source": [
        "def matmul(grid, a,b,c):\n",
        "    i,j = grid\n",
        "    if i < c.shape[0] and j < c.shape[1]:\n",
        "        tmp = 0.\n",
        "        for k in range(a.shape[1]): tmp += a[i, k] * b[k, j]\n",
        "        c[i,j] = tmp"
      ],
      "metadata": {
        "id": "6WGkP54UsUWY"
      },
      "execution_count": null,
      "outputs": []
    },
    {
      "cell_type": "code",
      "source": [
        "res = torch.zeros(ar, bc)\n",
        "matmul((0,0), a, b, res)\n",
        "res"
      ],
      "metadata": {
        "colab": {
          "base_uri": "https://localhost:8080/"
        },
        "id": "AulkedswvncO",
        "outputId": "e9ee76d3-e261-4931-b54f-605021471142"
      },
      "execution_count": null,
      "outputs": [
        {
          "output_type": "execute_result",
          "data": {
            "text/plain": [
              "tensor([[9.61, 0.00, 0.00, 0.00, 0.00, 0.00, 0.00, 0.00, 0.00, 0.00],\n",
              "        [0.00, 0.00, 0.00, 0.00, 0.00, 0.00, 0.00, 0.00, 0.00, 0.00],\n",
              "        [0.00, 0.00, 0.00, 0.00, 0.00, 0.00, 0.00, 0.00, 0.00, 0.00],\n",
              "        [0.00, 0.00, 0.00, 0.00, 0.00, 0.00, 0.00, 0.00, 0.00, 0.00],\n",
              "        [0.00, 0.00, 0.00, 0.00, 0.00, 0.00, 0.00, 0.00, 0.00, 0.00]])"
            ]
          },
          "metadata": {},
          "execution_count": 52
        }
      ]
    },
    {
      "cell_type": "code",
      "source": [
        "def launch_kernel(kernel, grid_x, grid_y, *args, **kwargs):\n",
        "    for i in range(grid_x):\n",
        "        for j in range(grid_y): kernel((i,j), *args, **kwargs)"
      ],
      "metadata": {
        "id": "SPYcNyFsvpUg"
      },
      "execution_count": null,
      "outputs": []
    },
    {
      "cell_type": "code",
      "source": [
        "res = torch.zeros(ar, bc)\n",
        "launch_kernel(matmul, ar, bc, a, b, res)\n",
        "res"
      ],
      "metadata": {
        "colab": {
          "base_uri": "https://localhost:8080/"
        },
        "id": "_6F4ZCCjvxq_",
        "outputId": "fbf462f3-5377-45a7-96a0-b64e05168c36"
      },
      "execution_count": null,
      "outputs": [
        {
          "output_type": "execute_result",
          "data": {
            "text/plain": [
              "tensor([[  9.61,   4.74,  -8.53,  -5.38,  13.76,  -4.88, -19.45,  -8.67,   4.12,  19.27],\n",
              "        [  0.33,  -1.38, -14.74,  -0.24, -11.11,  -4.17, -15.35,   1.32,  -6.79,   2.15],\n",
              "        [  2.21,  -1.10, -12.73,  -0.47,   4.21,  -6.72, -15.29,  -3.26,  -4.43,  11.80],\n",
              "        [ -0.71,   3.71,  -4.32,  -3.57,  12.49,  -6.21, -27.57, -16.23, -23.68,   3.00],\n",
              "        [ -0.86,   1.47, -15.30,   2.81,  -3.78,  -0.57,  -7.47,   8.04, -22.77,  -5.03]])"
            ]
          },
          "metadata": {},
          "execution_count": 55
        }
      ]
    },
    {
      "cell_type": "code",
      "source": [
        "from numba import cuda\n",
        "\n",
        "def matmul(grid, a,b,c):\n",
        "    i,j = grid\n",
        "    if i < c.shape[0] and j < c.shape[1]:\n",
        "        tmp = 0.\n",
        "        for k in range(a.shape[1]): tmp += a[i, k] * b[k, j]\n",
        "        c[i,j] = tmp"
      ],
      "metadata": {
        "id": "n-W4N1A0vzZc"
      },
      "execution_count": null,
      "outputs": []
    },
    {
      "cell_type": "code",
      "source": [
        "@cuda.jit\n",
        "def matmul_cuda(a,b,c):\n",
        "    i, j = cuda.grid(2)\n",
        "    if i < c.shape[0] and j < c.shape[1]:\n",
        "        tmp = 0.\n",
        "        for k in range(a.shape[1]): tmp += a[i, k] * b[k, j]\n",
        "        c[i,j] = tmp"
      ],
      "metadata": {
        "id": "xfbB7lwEv6G2"
      },
      "execution_count": null,
      "outputs": []
    },
    {
      "cell_type": "code",
      "source": [
        "tr = matmul_broadcast(x_train, weights)"
      ],
      "metadata": {
        "id": "nhLVIVbMwp9i"
      },
      "execution_count": null,
      "outputs": []
    },
    {
      "cell_type": "code",
      "source": [
        "r = np.zeros(tr.shape)\n",
        "m1g,m2g,rg = map(cuda.to_device, (x_train,weights,r))"
      ],
      "metadata": {
        "id": "Mb4bAZHXv77v"
      },
      "execution_count": null,
      "outputs": []
    },
    {
      "cell_type": "code",
      "source": [
        "r.shape"
      ],
      "metadata": {
        "colab": {
          "base_uri": "https://localhost:8080/"
        },
        "id": "Qke_94Fgv-X_",
        "outputId": "a0e01884-37ed-4b9b-fe09-9907b87a8f63"
      },
      "execution_count": null,
      "outputs": [
        {
          "output_type": "execute_result",
          "data": {
            "text/plain": [
              "(60000, 10)"
            ]
          },
          "metadata": {},
          "execution_count": 62
        }
      ]
    },
    {
      "cell_type": "code",
      "source": [
        "TPB = 16\n",
        "rr,rc = r.shape\n",
        "blockspergrid = (math.ceil(rr / TPB), math.ceil(rc / TPB))\n",
        "blockspergrid"
      ],
      "metadata": {
        "colab": {
          "base_uri": "https://localhost:8080/"
        },
        "id": "dzMkLLYfw6Gn",
        "outputId": "40d0626a-0e4a-4e05-ca23-32057bc2901f"
      },
      "execution_count": null,
      "outputs": [
        {
          "output_type": "execute_result",
          "data": {
            "text/plain": [
              "(3750, 1)"
            ]
          },
          "metadata": {},
          "execution_count": 63
        }
      ]
    },
    {
      "cell_type": "code",
      "source": [
        "%%timeit -n 10\n",
        "matmul_cuda[blockspergrid, (TPB,TPB)](m1g,m2g,rg)\n",
        "r = rg.copy_to_host()"
      ],
      "metadata": {
        "colab": {
          "base_uri": "https://localhost:8080/"
        },
        "id": "rviGdIjsw-3x",
        "outputId": "fc042c12-b88d-4b11-8e62-c5639a696b5a"
      },
      "execution_count": null,
      "outputs": [
        {
          "output_type": "stream",
          "name": "stdout",
          "text": [
            "14.8 ms ± 9.57 ms per loop (mean ± std. dev. of 7 runs, 10 loops each)\n"
          ]
        }
      ]
    },
    {
      "cell_type": "code",
      "source": [
        "m1c,m2c = x_train.cuda(),weights.cuda()"
      ],
      "metadata": {
        "id": "VJyHj5JWx2ZJ"
      },
      "execution_count": null,
      "outputs": []
    },
    {
      "cell_type": "code",
      "source": [
        "r=(m1c@m2c).cpu()"
      ],
      "metadata": {
        "id": "4XWZ5ifRx58Q"
      },
      "execution_count": null,
      "outputs": []
    },
    {
      "cell_type": "code",
      "source": [
        "%timeit -n 10 r=(m1c@m2c).cpu()"
      ],
      "metadata": {
        "colab": {
          "base_uri": "https://localhost:8080/"
        },
        "id": "0b0DGc5zx7d5",
        "outputId": "80cffa80-c573-4352-b543-b67230ad446d"
      },
      "execution_count": null,
      "outputs": [
        {
          "output_type": "stream",
          "name": "stdout",
          "text": [
            "3.68 ms ± 1.14 ms per loop (mean ± std. dev. of 7 runs, 10 loops each)\n"
          ]
        }
      ]
    },
    {
      "cell_type": "code",
      "source": [],
      "metadata": {
        "id": "vHclx0Z4yZ2d"
      },
      "execution_count": null,
      "outputs": []
    }
  ]
}